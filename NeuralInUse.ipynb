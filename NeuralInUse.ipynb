{
 "cells": [
  {
   "cell_type": "code",
   "execution_count": 1,
   "metadata": {
    "collapsed": false
   },
   "outputs": [],
   "source": [
    "from Engine.NeuralNetwork import NeuralNetwork\n",
    "import pandas as pd\n",
    "\n",
    "import numpy as np\n",
    "from scipy import misc\n",
    "import os\n",
    "import re"
   ]
  },
  {
   "cell_type": "code",
   "execution_count": 2,
   "metadata": {
    "collapsed": false
   },
   "outputs": [],
   "source": [
    "train_input = np.empty((0, 841))\n",
    "cv_input = np.empty((0, 841))\n",
    "test_input = np.empty((0, 841))\n",
    "train_output = np.empty((0, 26))\n",
    "cv_output = np.empty((0, 26))\n",
    "test_output = np.empty((0, 26))\n",
    "\n",
    "for f in os.listdir('data/Alphabet/big_alphabet_29x29/'):\n",
    "    v = np.array(misc.imread('data/Alphabet/big_alphabet_29x29/' + f, flatten=True)).flatten() / 255.0\n",
    "    parts = re.split('[-\\.]', f)\n",
    "    i = int(parts[1])\n",
    "    o = np.zeros(26)\n",
    "    o[i] = 1.0\n",
    "    if len(parts) == 5 and parts[2] in ['7', '8']:\n",
    "        cv_input = np.vstack([cv_input, v])\n",
    "        cv_output = np.vstack([cv_output, o])\n",
    "    elif len(parts) == 5 and parts[2] in ['5', '6']:\n",
    "        test_input = np.vstack([cv_input, v])\n",
    "        test_output = np.vstack([cv_output, o])\n",
    "    else:\n",
    "        train_input = np.vstack([train_input, v])\n",
    "        train_output = np.vstack([train_output, o])"
   ]
  },
  {
   "cell_type": "code",
   "execution_count": 3,
   "metadata": {
    "collapsed": false
   },
   "outputs": [],
   "source": [
    "y_train = np.zeros(len(train_output))\n",
    "for i in range(len(train_output)):\n",
    "    train_row = train_output[i]\n",
    "    y_train[i] = train_row.nonzero()[0][0]\n",
    "    \n",
    "    \n",
    "y_cv = np.zeros(len(cv_output))\n",
    "for i in range(len(cv_output)):\n",
    "    train_row = cv_output[i]\n",
    "    y_cv[i] = train_row.nonzero()[0][0]\n",
    "    \n",
    "y_test = np.zeros(len(test_output))\n",
    "for i in range(len(test_output)):\n",
    "    train_row = test_output[i]\n",
    "    y_test[i] = train_row.nonzero()[0][0]\n",
    "\n",
    "    \n",
    "x_train = np.concatenate((train_input, cv_input), axis=0)\n",
    "y_train = np.append(y_train, y_cv)\n",
    "\n",
    "x_test = test_input"
   ]
  },
  {
   "cell_type": "code",
   "execution_count": 5,
   "metadata": {
    "collapsed": false
   },
   "outputs": [
    {
     "name": "stdout",
     "output_type": "stream",
     "text": [
      "iter =  0   loss= 6.37486178902  min_loss= 9999999.9\n",
      "iter =  20   loss= 0.916246215892  min_loss= 0.889430167234\n",
      "iter =  40   loss= 0.958541762225  min_loss= 0.882272175774\n",
      "iter =  60   loss= 0.945373733003  min_loss= 0.882272175774\n",
      "iter =  80   loss= 0.961598826553  min_loss= 0.882272175774\n",
      "iter =  100   loss= 0.972300333308  min_loss= 0.882272175774\n",
      "Roll Back!  1.0\n",
      "new loss =  0.882272175774\n",
      "iter =  120   loss= 0.975084281845  min_loss= 0.82937307558\n",
      "iter =  140   loss= 0.880318347036  min_loss= 0.826140350556\n",
      "iter =  160   loss= 0.920693404238  min_loss= 0.826140350556\n",
      "Roll Back!  0.5\n",
      "new loss =  0.826140350556\n",
      "iter =  180   loss= 0.614933178311  min_loss= 0.62455634309\n",
      "iter =  200   loss= 0.38480840446  min_loss= 0.398915432655\n",
      "iter =  220   loss= 0.222747596062  min_loss= 0.227026916135\n",
      "iter =  240   loss= 0.158990874136  min_loss= 0.160784508592\n",
      "iter =  260   loss= 0.141749935774  min_loss= 0.142206903374\n",
      "iter =  280   loss= 0.13562136554  min_loss= 0.135835751994\n",
      "iter =  300   loss= 0.132399226948  min_loss= 0.132523944361\n",
      "iter =  320   loss= 0.130396896279  min_loss= 0.1304798348\n",
      "iter =  340   loss= 0.128955974196  min_loss= 0.129020068122\n",
      "iter =  360   loss= 0.127809657971  min_loss= 0.127861373989\n",
      "iter =  380   loss= 0.126879668947  min_loss= 0.126921833614\n",
      "iter =  400   loss= 0.126117291177  min_loss= 0.126152043783\n",
      "iter =  420   loss= 0.125485408511  min_loss= 0.125514365216\n",
      "iter =  440   loss= 0.12495616078  min_loss= 0.124980531694\n",
      "iter =  460   loss= 0.124508626373  min_loss= 0.124529324287\n",
      "iter =  480   loss= 0.124126928752  min_loss= 0.124144650676\n",
      "iter =  500   loss= 0.123798867659  min_loss= 0.123814152493\n",
      "iter =  520   loss= 0.123514954852  min_loss= 0.123528224053\n",
      "iter =  540   loss= 0.123267730168  min_loss= 0.123279316794\n",
      "iter =  560   loss= 0.123051268995  min_loss= 0.123061438798\n",
      "iter =  580   loss= 0.122860822241  min_loss= 0.12286978918\n",
      "iter =  600   loss= 0.122692549783  min_loss= 0.122700487577\n",
      "iter =  620   loss= 0.122543321026  min_loss= 0.122550371842\n",
      "iter =  640   loss= 0.122410564318  min_loss= 0.122416845355\n",
      "iter =  660   loss= 0.122292152295  min_loss= 0.122297760818\n",
      "iter =  680   loss= 0.122186313938  min_loss= 0.122191331151\n",
      "iter =  700   loss= 0.122091566619  min_loss= 0.122096060672\n",
      "iter =  720   loss= 0.122006663277  min_loss= 0.122010691606\n",
      "iter =  740   loss= 0.121930551104  min_loss= 0.121934162267\n",
      "iter =  760   loss= 0.121862339111  min_loss= 0.121865574233\n",
      "iter =  780   loss= 0.121801272596  min_loss= 0.121804166504\n",
      "iter =  800   loss= 0.121746713023  min_loss= 0.121749295144\n",
      "iter =  820   loss= 0.121698122196  min_loss= 0.121700417262\n",
      "iter =  840   loss= 0.121655049783  min_loss= 0.121657078385\n",
      "iter =  860   loss= 0.121617123309  min_loss= 0.121618902358\n",
      "iter =  880   loss= 0.121584039504  min_loss= 0.121585582653\n",
      "iter =  900   loss= 0.121555555001  min_loss= 0.12155687318\n",
      "iter =  920   loss= 0.121531472008  min_loss= 0.121532574382\n",
      "iter =  940   loss= 0.121511607766  min_loss= 0.121512503988\n",
      "iter =  960   loss= 0.121495716701  min_loss= 0.121496422931\n",
      "iter =  980   loss= 0.121483268721  min_loss= 0.121483825473\n",
      "iter =  1000   loss= 0.121472739437  min_loss= 0.12147327185\n",
      "iter =  1020   loss= 0.121458912204  min_loss= 0.121459878332\n",
      "iter =  1040   loss= 0.12141926241  min_loss= 0.121422880035\n",
      "iter =  1060   loss= 0.121197429529  min_loss= 0.121222988976\n",
      "iter =  1080   loss= 0.118242335716  min_loss= 0.118622707623\n",
      "iter =  1100   loss= 0.108480489281  min_loss= 0.109155031514\n"
     ]
    }
   ],
   "source": [
    "network = NeuralNetwork(hidden_layers_sizes=[50, 100], learning_rate=1., max_iter=100000, test_size=0.3)\n",
    "network.fit(x_train, y_train)"
   ]
  },
  {
   "cell_type": "code",
   "execution_count": 6,
   "metadata": {
    "collapsed": true
   },
   "outputs": [],
   "source": [
    "y_predicted = network.predict(x_test)"
   ]
  },
  {
   "cell_type": "code",
   "execution_count": 8,
   "metadata": {
    "collapsed": false
   },
   "outputs": [
    {
     "data": {
      "text/plain": [
       "[(3.0, 3.0),\n",
       " (4.0, 4.0),\n",
       " (14.0, 14.0),\n",
       " (12.0, 12.0),\n",
       " (7.0, 7.0),\n",
       " (21.0, 21.0),\n",
       " (18.0, 18.0),\n",
       " (8.0, 19.0),\n",
       " (13.0, 13.0),\n",
       " (9.0, 9.0),\n",
       " (11.0, 11.0),\n",
       " (24.0, 24.0),\n",
       " (3.0, 3.0),\n",
       " (16.0, 16.0),\n",
       " (8.0, 8.0),\n",
       " (17.0, 17.0),\n",
       " (1.0, 1.0),\n",
       " (11.0, 11.0),\n",
       " (15.0, 15.0),\n",
       " (24.0, 24.0),\n",
       " (25.0, 25.0),\n",
       " (16.0, 16.0),\n",
       " (9.0, 9.0),\n",
       " (4.0, 4.0),\n",
       " (5.0, 5.0),\n",
       " (13.0, 13.0),\n",
       " (23.0, 23.0),\n",
       " (12.0, 12.0),\n",
       " (20.0, 20.0),\n",
       " (2.0, 2.0),\n",
       " (6.0, 6.0),\n",
       " (25.0, 25.0),\n",
       " (8.0, 8.0),\n",
       " (6.0, 6.0),\n",
       " (20.0, 20.0),\n",
       " (0.0, 0.0),\n",
       " (15.0, 15.0),\n",
       " (23.0, 23.0),\n",
       " (19.0, 19.0),\n",
       " (2.0, 2.0),\n",
       " (18.0, 18.0),\n",
       " (21.0, 21.0),\n",
       " (0.0, 0.0),\n",
       " (5.0, 5.0),\n",
       " (14.0, 14.0),\n",
       " (22.0, 22.0),\n",
       " (17.0, 17.0),\n",
       " (7.0, 7.0),\n",
       " (22.0, 22.0),\n",
       " (10.0, 10.0),\n",
       " (1.0, 1.0),\n",
       " (14.0, 14.0)]"
      ]
     },
     "execution_count": 8,
     "metadata": {},
     "output_type": "execute_result"
    }
   ],
   "source": [
    "zip(y_predicted, y_test)"
   ]
  }
 ],
 "metadata": {
  "kernelspec": {
   "display_name": "Python 2",
   "language": "python",
   "name": "python2"
  },
  "language_info": {
   "codemirror_mode": {
    "name": "ipython",
    "version": 2
   },
   "file_extension": ".py",
   "mimetype": "text/x-python",
   "name": "python",
   "nbconvert_exporter": "python",
   "pygments_lexer": "ipython2",
   "version": "2.7.10"
  }
 },
 "nbformat": 4,
 "nbformat_minor": 0
}
