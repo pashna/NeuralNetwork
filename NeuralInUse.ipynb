{
 "cells": [
  {
   "cell_type": "code",
   "execution_count": 1,
   "metadata": {
    "collapsed": false
   },
   "outputs": [],
   "source": [
    "from Engine.NeuralNetwork import NeuralNetwork\n",
    "import pandas as pd\n",
    "from Engine.ActivationFunction.Sigmoid import Sigmoid\n",
    "\n",
    "import numpy as np\n",
    "from scipy import misc\n",
    "from sklearn.metrics import f1_score, accuracy_score, precision_score\n",
    "import os\n",
    "import re"
   ]
  },
  {
   "cell_type": "code",
   "execution_count": 2,
   "metadata": {
    "collapsed": false
   },
   "outputs": [],
   "source": [
    "train_input = np.empty((0, 841))\n",
    "cv_input = np.empty((0, 841))\n",
    "test_input = np.empty((0, 841))\n",
    "train_output = np.empty((0, 26))\n",
    "cv_output = np.empty((0, 26))\n",
    "test_output = np.empty((0, 26))\n",
    "\n",
    "for f in os.listdir('data/Alphabet/big_alphabet_29x29/'):\n",
    "    v = np.array(misc.imread('data/Alphabet/big_alphabet_29x29/' + f, flatten=True)).flatten() / 255.0\n",
    "    parts = re.split('[-\\.]', f)\n",
    "    i = int(parts[1])\n",
    "    o = np.zeros(26)\n",
    "    o[i] = 1.0\n",
    "    if len(parts) == 5 and parts[2] in ['7', '8']:\n",
    "        cv_input = np.vstack([cv_input, v])\n",
    "        cv_output = np.vstack([cv_output, o])\n",
    "    elif len(parts) == 5 and parts[2] in ['5', '6']:\n",
    "        test_input = np.vstack([cv_input, v])\n",
    "        test_output = np.vstack([cv_output, o])\n",
    "    else:\n",
    "        train_input = np.vstack([train_input, v])\n",
    "        train_output = np.vstack([train_output, o])"
   ]
  },
  {
   "cell_type": "code",
   "execution_count": 3,
   "metadata": {
    "collapsed": false
   },
   "outputs": [],
   "source": [
    "y_train = np.zeros(len(train_output))\n",
    "for i in range(len(train_output)):\n",
    "    train_row = train_output[i]\n",
    "    y_train[i] = train_row.nonzero()[0][0]\n",
    "    \n",
    "    \n",
    "y_cv = np.zeros(len(cv_output))\n",
    "for i in range(len(cv_output)):\n",
    "    train_row = cv_output[i]\n",
    "    y_cv[i] = train_row.nonzero()[0][0]\n",
    "    \n",
    "y_test = np.zeros(len(test_output))\n",
    "for i in range(len(test_output)):\n",
    "    train_row = test_output[i]\n",
    "    y_test[i] = train_row.nonzero()[0][0]\n",
    "\n",
    "    \n",
    "X_train = train_input\n",
    "y_train = y_train\n",
    "\n",
    "X_validate = cv_input\n",
    "y_validate = y_cv\n",
    "\n",
    "X_test = test_input"
   ]
  },
  {
   "cell_type": "code",
   "execution_count": 5,
   "metadata": {
    "collapsed": false
   },
   "outputs": [
    {
     "name": "stdout",
     "output_type": "stream",
     "text": [
      "iter =  0   loss= 6.94387419801  min_loss= 9999999.9\n",
      "iter =  20   loss= 0.864668953311  min_loss= 0.785311454935\n",
      "iter =  40   loss= 0.933797343523  min_loss= 0.785311454935\n",
      "Roll Back! new learning_rate =  0.5\n",
      "new loss =  0.785311454935\n",
      "iter =  60   loss= 0.491128835522  min_loss= 0.513825218842\n",
      "Roll Back! new learning_rate =  0.25\n",
      "new loss =  0.491128835522\n",
      "iter =  80   loss= 0.237742555212  min_loss= 0.26899464113\n",
      "iter =  100   loss= 0.0363179707548  min_loss= 0.0389117892237\n",
      "iter =  120   loss= 0.0171688566235  min_loss= 0.0175642658266\n",
      "iter =  140   loss= 0.012216959741  min_loss= 0.0123825096749\n"
     ]
    }
   ],
   "source": [
    "network = NeuralNetwork(hidden_layers_sizes=[50, 100], \\\n",
    "                        activation_func=[Sigmoid(), Sigmoid(), Sigmoid()], \\\n",
    "                        learning_rate=1., \\\n",
    "                        max_iter=2000, \\\n",
    "                        max_loss=0.01)\n",
    "network.fit(X_train, y_train, (X_validate, y_validate))"
   ]
  },
  {
   "cell_type": "code",
   "execution_count": 6,
   "metadata": {
    "collapsed": false
   },
   "outputs": [],
   "source": [
    "y_predicted = network.predict(X_test)"
   ]
  },
  {
   "cell_type": "code",
   "execution_count": 7,
   "metadata": {
    "collapsed": false
   },
   "outputs": [
    {
     "name": "stdout",
     "output_type": "stream",
     "text": [
      "Accurancy= 1.0\n"
     ]
    },
    {
     "data": {
      "text/plain": [
       "[(3.0, 3.0),\n",
       " (4.0, 4.0),\n",
       " (14.0, 14.0),\n",
       " (12.0, 12.0),\n",
       " (7.0, 7.0),\n",
       " (21.0, 21.0),\n",
       " (18.0, 18.0),\n",
       " (19.0, 19.0),\n",
       " (13.0, 13.0),\n",
       " (9.0, 9.0),\n",
       " (11.0, 11.0),\n",
       " (24.0, 24.0),\n",
       " (3.0, 3.0),\n",
       " (16.0, 16.0),\n",
       " (8.0, 8.0),\n",
       " (17.0, 17.0),\n",
       " (1.0, 1.0),\n",
       " (11.0, 11.0),\n",
       " (15.0, 15.0),\n",
       " (24.0, 24.0),\n",
       " (25.0, 25.0),\n",
       " (16.0, 16.0),\n",
       " (9.0, 9.0),\n",
       " (4.0, 4.0),\n",
       " (5.0, 5.0),\n",
       " (13.0, 13.0),\n",
       " (23.0, 23.0),\n",
       " (12.0, 12.0),\n",
       " (20.0, 20.0),\n",
       " (2.0, 2.0),\n",
       " (6.0, 6.0),\n",
       " (25.0, 25.0),\n",
       " (8.0, 8.0),\n",
       " (6.0, 6.0),\n",
       " (20.0, 20.0),\n",
       " (0.0, 0.0),\n",
       " (15.0, 15.0),\n",
       " (23.0, 23.0),\n",
       " (19.0, 19.0),\n",
       " (2.0, 2.0),\n",
       " (18.0, 18.0),\n",
       " (21.0, 21.0),\n",
       " (0.0, 0.0),\n",
       " (5.0, 5.0),\n",
       " (14.0, 14.0),\n",
       " (22.0, 22.0),\n",
       " (17.0, 17.0),\n",
       " (7.0, 7.0),\n",
       " (22.0, 22.0),\n",
       " (10.0, 10.0),\n",
       " (1.0, 1.0),\n",
       " (14.0, 14.0)]"
      ]
     },
     "execution_count": 7,
     "metadata": {},
     "output_type": "execute_result"
    }
   ],
   "source": [
    "print \"Accurancy=\", accuracy_score(y_test, y_predicted)\n",
    "zip(y_test, y_predicted)"
   ]
  },
  {
   "cell_type": "code",
   "execution_count": null,
   "metadata": {
    "collapsed": false
   },
   "outputs": [],
   "source": []
  }
 ],
 "metadata": {
  "kernelspec": {
   "display_name": "Python 2",
   "language": "python",
   "name": "python2"
  },
  "language_info": {
   "codemirror_mode": {
    "name": "ipython",
    "version": 2
   },
   "file_extension": ".py",
   "mimetype": "text/x-python",
   "name": "python",
   "nbconvert_exporter": "python",
   "pygments_lexer": "ipython2",
   "version": "2.7.10"
  }
 },
 "nbformat": 4,
 "nbformat_minor": 0
}
