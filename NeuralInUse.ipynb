{
 "cells": [
  {
   "cell_type": "code",
   "execution_count": 1,
   "metadata": {
    "collapsed": true
   },
   "outputs": [],
   "source": [
    "from Engine.NeuralNetwork import NeuralNetwork\n",
    "import pandas as pd\n",
    "from Engine.ActivationFunction.Sigmoid import Sigmoid\n",
    "from Engine.LossFunction.BernoulliLikelyhood import BernoulliLikelyhood as Bernoulli\n",
    "from Engine.LossFunction.MSE import MSE\n",
    "\n",
    "import numpy as np\n",
    "from scipy import misc\n",
    "from sklearn.metrics import f1_score, accuracy_score, precision_score\n",
    "import os\n",
    "import re"
   ]
  },
  {
   "cell_type": "code",
   "execution_count": 2,
   "metadata": {
    "collapsed": true
   },
   "outputs": [],
   "source": [
    "train_input = np.empty((0, 841))\n",
    "cv_input = np.empty((0, 841))\n",
    "test_input = np.empty((0, 841))\n",
    "train_output = np.empty((0, 26))\n",
    "cv_output = np.empty((0, 26))\n",
    "test_output = np.empty((0, 26))\n",
    "\n",
    "for f in os.listdir('data/Alphabet/big_alphabet_29x29/'):\n",
    "    v = np.array(misc.imread('data/Alphabet/big_alphabet_29x29/' + f, flatten=True)).flatten() / 255.0\n",
    "    parts = re.split('[-\\.]', f)\n",
    "    i = int(parts[1])\n",
    "    o = np.zeros(26)\n",
    "    o[i] = 1.0\n",
    "    if len(parts) == 5 and parts[2] in ['7', '8']:\n",
    "        cv_input = np.vstack([cv_input, v])\n",
    "        cv_output = np.vstack([cv_output, o])\n",
    "    elif len(parts) == 5 and parts[2] in ['5', '6']:\n",
    "        test_input = np.vstack([cv_input, v])\n",
    "        test_output = np.vstack([cv_output, o])\n",
    "    else:\n",
    "        train_input = np.vstack([train_input, v])\n",
    "        train_output = np.vstack([train_output, o])"
   ]
  },
  {
   "cell_type": "code",
   "execution_count": 3,
   "metadata": {
    "collapsed": true
   },
   "outputs": [],
   "source": [
    "y_train = np.zeros(len(train_output))\n",
    "for i in range(len(train_output)):\n",
    "    train_row = train_output[i]\n",
    "    y_train[i] = train_row.nonzero()[0][0]\n",
    "    \n",
    "    \n",
    "y_cv = np.zeros(len(cv_output))\n",
    "for i in range(len(cv_output)):\n",
    "    train_row = cv_output[i]\n",
    "    y_cv[i] = train_row.nonzero()[0][0]\n",
    "    \n",
    "y_test = np.zeros(len(test_output))\n",
    "for i in range(len(test_output)):\n",
    "    train_row = test_output[i]\n",
    "    y_test[i] = train_row.nonzero()[0][0]\n",
    "\n",
    "    \n",
    "X_train = train_input\n",
    "y_train = y_train\n",
    "\n",
    "X_validate = cv_input\n",
    "y_validate = y_cv\n",
    "\n",
    "X_test = test_input"
   ]
  },
  {
   "cell_type": "code",
   "execution_count": 4,
   "metadata": {
    "collapsed": false
   },
   "outputs": [],
   "source": [
    "X = np.concatenate((X_train, X_validate), axis=0)\n",
    "X = np.concatenate((X, X_test), axis=0)"
   ]
  },
  {
   "cell_type": "code",
   "execution_count": 5,
   "metadata": {
    "collapsed": true
   },
   "outputs": [],
   "source": [
    "y = np.append(y_train, y_validate)\n",
    "y = np.append(y, y_test)"
   ]
  },
  {
   "cell_type": "code",
   "execution_count": 6,
   "metadata": {
    "collapsed": false
   },
   "outputs": [
    {
     "data": {
      "text/plain": [
       "261"
      ]
     },
     "execution_count": 6,
     "metadata": {},
     "output_type": "execute_result"
    }
   ],
   "source": [
    "len(X)"
   ]
  },
  {
   "cell_type": "code",
   "execution_count": 7,
   "metadata": {
    "collapsed": true
   },
   "outputs": [],
   "source": [
    "d20 = len(X)*0.1\n",
    "d60 = len(X)*0.6\n",
    "\n",
    "X_train = X[:d20]\n",
    "X_test = X[d20:d60]\n",
    "X_validate = X[d60:]\n",
    "\n",
    "y_train = y[:d20]\n",
    "y_test = y[d20:d60]\n",
    "y_validate = y[d60:]"
   ]
  },
  {
   "cell_type": "code",
   "execution_count": 8,
   "metadata": {
    "collapsed": false
   },
   "outputs": [
    {
     "name": "stdout",
     "output_type": "stream",
     "text": [
      "52 52\n",
      "104 104\n",
      "105 105\n"
     ]
    }
   ],
   "source": [
    "print len(y_train), len(X_train)\n",
    "print len(y_test), len(X_test)\n",
    "print len(y_validate), len(X_validate)"
   ]
  },
  {
   "cell_type": "code",
   "execution_count": null,
   "metadata": {
    "collapsed": false
   },
   "outputs": [
    {
     "name": "stdout",
     "output_type": "stream",
     "text": [
      "iter =  1   loss= 0.970173731841  min_loss= 6.48853266659\n",
      "iter =  21   loss= 1.01851687564  min_loss= 0.967459899992\n",
      "iter =  41   loss= 0.981557433289  min_loss= 0.888538442111\n",
      "iter =  61   loss= 0.949428486981  min_loss= 0.888538442111\n",
      "iter =  81   loss= 0.940184344884  min_loss= 0.888538442111\n",
      "iter =  101   loss= 0.967770795583  min_loss= 0.888538442111\n",
      "iter =  121   loss= 0.93945969898  min_loss= 0.888538442111\n",
      "iter =  141   loss= 0.961390104709  min_loss= 0.888538442111\n",
      "iter =  161   loss= 0.969494687171  min_loss= 0.888538442111\n",
      "iter =  181   loss= 0.980196618788  min_loss= 0.888538442111\n",
      "iter =  201   loss= 0.937200038206  min_loss= 0.888538442111\n",
      "iter =  221   loss= 0.958218601256  min_loss= 0.888538442111\n",
      "iter =  241   loss= 0.987361451248  min_loss= 0.888538442111\n",
      "iter =  261   loss= 0.971348855748  min_loss= 0.888538442111\n",
      "iter =  281   loss= 0.970908259043  min_loss= 0.888538442111\n",
      "iter =  301   loss= 0.964826817511  min_loss= 0.888538442111\n",
      "iter =  321   loss= 0.974357951241  min_loss= 0.888538442111\n",
      "iter =  341   loss= 0.972132721486  min_loss= 0.888538442111\n",
      "iter =  361   loss= 0.971631693046  min_loss= 0.888538442111\n",
      "iter =  381   loss= 0.971468252217  min_loss= 0.888538442111\n",
      "iter =  401   loss= 0.969269877897  min_loss= 0.888538442111\n",
      "iter =  421   loss= 0.961141112031  min_loss= 0.888538442111\n",
      "iter =  441   loss= 0.97278956905  min_loss= 0.888538442111\n",
      "iter =  461   loss= 0.971622317392  min_loss= 0.888538442111\n",
      "iter =  481   loss= 0.970108055422  min_loss= 0.888538442111\n",
      "iter =  501   loss= 0.957996781495  min_loss= 0.888538442111\n",
      "iter =  521   loss= 0.950001042809  min_loss= 0.888538442111\n",
      "iter =  541   loss= 0.972182788775  min_loss= 0.888538442111\n",
      "iter =  561   loss= 0.971991096455  min_loss= 0.888538442111\n",
      "iter = "
     ]
    }
   ],
   "source": [
    "network = NeuralNetwork(hidden_layers_sizes=[50, 50], \\\n",
    "                        #activation_func=[Bernoulli(), Bernoulli()], \\\n",
    "                        learning_rate=1., \\\n",
    "                        max_iter=2000, \\\n",
    "                        max_loss=0.05, \\\n",
    "                        classes=list(np.unique(y))\n",
    "                       )\n",
    "\n",
    "network.fit(X_train, y_train, (X_validate, y_validate))"
   ]
  },
  {
   "cell_type": "code",
   "execution_count": 18,
   "metadata": {
    "collapsed": true
   },
   "outputs": [],
   "source": [
    "y_predicted = network.predict(X_test)"
   ]
  },
  {
   "cell_type": "code",
   "execution_count": 19,
   "metadata": {
    "collapsed": false
   },
   "outputs": [
    {
     "name": "stdout",
     "output_type": "stream",
     "text": [
      "Accurancy = 0.711538461538\n"
     ]
    },
    {
     "data": {
      "text/plain": [
       "[(23.0, 23.0),\n",
       " (11.0, 11.0),\n",
       " (14.0, 14.0),\n",
       " (16.0, 16.0),\n",
       " (7.0, 7.0),\n",
       " (10.0, 10.0),\n",
       " (12.0, 12.0),\n",
       " (23.0, 10.0),\n",
       " (7.0, 13.0),\n",
       " (22.0, 22.0),\n",
       " (5.0, 5.0),\n",
       " (18.0, 18.0),\n",
       " (16.0, 16.0),\n",
       " (20.0, 7.0),\n",
       " (20.0, 7.0),\n",
       " (13.0, 13.0),\n",
       " (10.0, 10.0),\n",
       " (19.0, 19.0),\n",
       " (2.0, 2.0),\n",
       " (3.0, 3.0),\n",
       " (18.0, 18.0),\n",
       " (9.0, 8.0),\n",
       " (11.0, 11.0),\n",
       " (14.0, 14.0),\n",
       " (15.0, 15.0),\n",
       " (4.0, 4.0),\n",
       " (8.0, 8.0),\n",
       " (1.0, 1.0),\n",
       " (0.0, 10.0),\n",
       " (5.0, 5.0),\n",
       " (4.0, 4.0),\n",
       " (8.0, 8.0),\n",
       " (3.0, 3.0),\n",
       " (13.0, 7.0),\n",
       " (0.0, 10.0),\n",
       " (12.0, 12.0),\n",
       " (17.0, 17.0),\n",
       " (10.0, 10.0),\n",
       " (25.0, 25.0),\n",
       " (9.0, 8.0),\n",
       " (4.0, 1.0),\n",
       " (9.0, 24.0),\n",
       " (13.0, 13.0),\n",
       " (18.0, 18.0),\n",
       " (1.0, 1.0),\n",
       " (13.0, 13.0),\n",
       " (25.0, 25.0),\n",
       " (20.0, 7.0),\n",
       " (11.0, 11.0),\n",
       " (9.0, 8.0),\n",
       " (25.0, 25.0),\n",
       " (2.0, 2.0),\n",
       " (5.0, 5.0),\n",
       " (6.0, 6.0),\n",
       " (4.0, 25.0),\n",
       " (4.0, 4.0),\n",
       " (24.0, 24.0),\n",
       " (23.0, 10.0),\n",
       " (20.0, 7.0),\n",
       " (18.0, 18.0),\n",
       " (14.0, 14.0),\n",
       " (9.0, 8.0),\n",
       " (11.0, 11.0),\n",
       " (16.0, 16.0),\n",
       " (0.0, 17.0),\n",
       " (17.0, 17.0),\n",
       " (21.0, 21.0),\n",
       " (19.0, 19.0),\n",
       " (12.0, 12.0),\n",
       " (13.0, 13.0),\n",
       " (10.0, 10.0),\n",
       " (15.0, 15.0),\n",
       " (14.0, 14.0),\n",
       " (2.0, 2.0),\n",
       " (3.0, 3.0),\n",
       " (2.0, 3.0),\n",
       " (23.0, 10.0),\n",
       " (24.0, 24.0),\n",
       " (0.0, 10.0),\n",
       " (25.0, 25.0),\n",
       " (23.0, 10.0),\n",
       " (8.0, 8.0),\n",
       " (19.0, 19.0),\n",
       " (24.0, 24.0),\n",
       " (19.0, 19.0),\n",
       " (2.0, 2.0),\n",
       " (9.0, 8.0),\n",
       " (1.0, 17.0),\n",
       " (0.0, 17.0),\n",
       " (20.0, 7.0),\n",
       " (1.0, 1.0),\n",
       " (18.0, 18.0),\n",
       " (17.0, 17.0),\n",
       " (7.0, 7.0),\n",
       " (22.0, 22.0),\n",
       " (20.0, 3.0),\n",
       " (16.0, 16.0),\n",
       " (22.0, 22.0),\n",
       " (16.0, 16.0),\n",
       " (7.0, 13.0),\n",
       " (0.0, 10.0),\n",
       " (6.0, 6.0),\n",
       " (14.0, 6.0),\n",
       " (21.0, 21.0)]"
      ]
     },
     "execution_count": 19,
     "metadata": {},
     "output_type": "execute_result"
    }
   ],
   "source": [
    "print \"Accurancy =\", accuracy_score(y_test, y_predicted)\n",
    "zip(y_test, y_predicted)"
   ]
  },
  {
   "cell_type": "code",
   "execution_count": null,
   "metadata": {
    "collapsed": true
   },
   "outputs": [],
   "source": [
    "Accurancy = 0.740384615385"
   ]
  }
 ],
 "metadata": {
  "kernelspec": {
   "display_name": "Python 2",
   "language": "python",
   "name": "python2"
  },
  "language_info": {
   "codemirror_mode": {
    "name": "ipython",
    "version": 2
   },
   "file_extension": ".py",
   "mimetype": "text/x-python",
   "name": "python",
   "nbconvert_exporter": "python",
   "pygments_lexer": "ipython2",
   "version": "2.7.9"
  }
 },
 "nbformat": 4,
 "nbformat_minor": 0
}
